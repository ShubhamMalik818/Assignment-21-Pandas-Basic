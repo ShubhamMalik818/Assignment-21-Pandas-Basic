{
 "cells": [
  {
   "cell_type": "code",
   "execution_count": null,
   "id": "93d218f6-9d75-4d5f-92ef-33b5673e6ceb",
   "metadata": {},
   "outputs": [],
   "source": [
    "1. Create a Pandas Series that contains the following data: 4, 8, 15, 16, 23, and 42. Then, print the series."
   ]
  },
  {
   "cell_type": "code",
   "execution_count": 1,
   "id": "97105423-d5ae-4efc-b6a9-b85dbb287474",
   "metadata": {},
   "outputs": [
    {
     "name": "stdout",
     "output_type": "stream",
     "text": [
      "0     4\n",
      "1     8\n",
      "2    15\n",
      "3    16\n",
      "4    23\n",
      "5    42\n",
      "dtype: int64\n"
     ]
    }
   ],
   "source": [
    "import pandas as pd\n",
    "\n",
    "data = [4, 8, 15, 16, 23, 42]\n",
    "series = pd.Series(data)\n",
    "\n",
    "print(series)\n"
   ]
  },
  {
   "cell_type": "code",
   "execution_count": null,
   "id": "3c391aea-7245-4cc7-87c5-5ece1c69f0b0",
   "metadata": {},
   "outputs": [],
   "source": [
    "2. Create a variable of list type containing 10 elements in it, and apply pandas. Series function on the variable print it."
   ]
  },
  {
   "cell_type": "code",
   "execution_count": 2,
   "id": "a3984971-7f6c-492d-bbff-34892dad5028",
   "metadata": {},
   "outputs": [
    {
     "name": "stdout",
     "output_type": "stream",
     "text": [
      "0     1\n",
      "1     2\n",
      "2     3\n",
      "3     4\n",
      "4     5\n",
      "5     6\n",
      "6     7\n",
      "7     8\n",
      "8     9\n",
      "9    10\n",
      "dtype: int64\n"
     ]
    }
   ],
   "source": [
    "import pandas as pd\n",
    "\n",
    "my_list = [1, 2, 3, 4, 5, 6, 7, 8, 9, 10]\n",
    "series = pd.Series(my_list)\n",
    "\n",
    "print(series)\n"
   ]
  },
  {
   "cell_type": "code",
   "execution_count": null,
   "id": "a9871b81-bed6-44e9-9263-fce9a23681d3",
   "metadata": {},
   "outputs": [],
   "source": [
    "3. Create a Pandas DataFrame that contains the following data:\n",
    "    \n",
    "    Name          Age             Gender\n",
    "    Alice          25              Female\n",
    "    Bob            30              Male\n",
    "    Claire         27              Female\n",
    "    \n",
    "    Then, print the DataFrame   "
   ]
  },
  {
   "cell_type": "code",
   "execution_count": 3,
   "id": "d1adf3c9-1ef1-418e-8cce-27feb41adb6f",
   "metadata": {},
   "outputs": [
    {
     "name": "stdout",
     "output_type": "stream",
     "text": [
      "     Name  Age  Gender\n",
      "0   Alice   25  Female\n",
      "1     Bob   30    Male\n",
      "2  Claire   27  Female\n"
     ]
    }
   ],
   "source": [
    "import pandas as pd\n",
    "\n",
    "data = {'Name': ['Alice', 'Bob', 'Claire'],\n",
    "        'Age': [25, 30, 27],\n",
    "        'Gender': ['Female', 'Male', 'Female']}\n",
    "\n",
    "df = pd.DataFrame(data)\n",
    "\n",
    "print(df)\n"
   ]
  },
  {
   "cell_type": "code",
   "execution_count": null,
   "id": "7376a3be-fe58-4aec-9ba0-41d99833adfa",
   "metadata": {},
   "outputs": [],
   "source": [
    "4. What is ‘DataFrame’ in pandas and how is it different from pandas.series? Explain with an example."
   ]
  },
  {
   "cell_type": "code",
   "execution_count": null,
   "id": "45dbf887-2957-4b79-88ed-fcaf80d228ea",
   "metadata": {},
   "outputs": [],
   "source": [
    "ANS- In Pandas, a DataFrame is a two-dimensional labeled data structure that represents a tabular or spreadsheet-like data, with rows and columns. \n",
    "     It is essentially a collection of Pandas Series objects, where each Series represents a column in the DataFrame.\n",
    "\n",
    "A Pandas Series, on the other hand, is a one-dimensional labeled data structure that represents a single column or row of data in a DataFrame. \n",
    "It can be thought of as a NumPy array with labels, where each element is assigned a label or index.\n",
    "\n",
    "Here is an example to illustrate the difference between a Pandas Series and a DataFrame:"
   ]
  },
  {
   "cell_type": "code",
   "execution_count": 4,
   "id": "a92be6d1-7ef0-4b12-a743-3130b39d19f3",
   "metadata": {},
   "outputs": [
    {
     "name": "stdout",
     "output_type": "stream",
     "text": [
      "0    10\n",
      "1    20\n",
      "2    30\n",
      "3    40\n",
      "4    50\n",
      "Name: my_series, dtype: int64\n",
      "      Name  Age     City\n",
      "0  Shubham   25  Sonipat\n",
      "1  Nishant   22  Sonipat\n",
      "2    Bruno    2  Sonipat\n"
     ]
    }
   ],
   "source": [
    "import pandas as pd\n",
    "\n",
    "# Example of a Pandas Series\n",
    "series = pd.Series([10, 20, 30, 40, 50], name='my_series')\n",
    "print(series)\n",
    "\n",
    "# Example of a Pandas DataFrame\n",
    "data = {'Name': ['Shubham', 'Nishant', 'Bruno'],\n",
    "        'Age': [25, 22, 2],\n",
    "        'City': ['Sonipat', 'Sonipat', 'Sonipat']}\n",
    "df = pd.DataFrame(data)\n",
    "print(df)\n"
   ]
  },
  {
   "cell_type": "code",
   "execution_count": null,
   "id": "3d4dd27f-da4b-40d3-9eb0-05ad1a499a63",
   "metadata": {},
   "outputs": [],
   "source": [
    "In this example, we first create a Pandas Series using the pd.Series() function. It contains a single column of data, [10, 20, 30, 40, 50], \n",
    "and is assigned a name of \"my_series\". The output shows that the Series contains five elements, each with an associated index.\n",
    "\n",
    "Next, we create a Pandas DataFrame using the pd.DataFrame() function. It contains three columns of data: \"Name\", \"Age\", and \"City\". \n",
    "Each column is represented by a separate Pandas Series, and the DataFrame combines them together into a tabular data structure. \n",
    "The output shows that the DataFrame contains four rows of data, each with a unique index, and each row contains data for all three columns.\n",
    "\n",
    "In summary, a Pandas Series represents a single column or row of data, whereas a Pandas DataFrame represents a collection of columns, \n",
    "where each column can be a Series."
   ]
  },
  {
   "cell_type": "code",
   "execution_count": null,
   "id": "44cf6e83-66f2-44f5-9ca6-28b7400fc0f6",
   "metadata": {},
   "outputs": [],
   "source": [
    "5. What are some common functions you can use to manipulate data in a Pandas DataFrame? Can you give an example of when you might use \n",
    "   one of these functions?"
   ]
  },
  {
   "cell_type": "code",
   "execution_count": null,
   "id": "d27f22dd-f29f-431e-8d92-05a93d006479",
   "metadata": {},
   "outputs": [],
   "source": [
    "ANS- Pandas provides a wide range of functions to manipulate and transform data in a DataFrame. \n",
    "\n",
    "Some of the commonly used functions are:\n",
    "\n",
    "    1. head() and tail(): These functions are used to display the first and last n rows of the DataFrame respectively. \n",
    "                          They are useful to quickly preview the data and check if it has been loaded correctly.\n",
    "    \n",
    "    2. describe(): This function provides a summary of the statistics of the DataFrame, such as count, mean, standard deviation, \n",
    "                   minimum, maximum, and quartiles.   \n",
    "        \n",
    "    3. drop(): This function is used to remove rows or columns from the DataFrame based on the specified labels or indices.\n",
    "    \n",
    "    4. sort_values(): This function is used to sort the DataFrame based on one or more columns, in ascending or descending order.\n",
    "    \n",
    "    5. groupby(): This function is used to group the data in the DataFrame based on one or more columns, and apply an aggregation function, \n",
    "                  such as sum, mean, or count, to each group.\n",
    "        \n",
    "        \n",
    "These are just a few examples of the many functions available in Pandas to manipulate data in a DataFrame. \n",
    "They are commonly used to clean and preprocess data, perform exploratory data analysis, and prepare data for machine learning algorithms.        "
   ]
  },
  {
   "cell_type": "code",
   "execution_count": 7,
   "id": "a057fac0-f280-4108-a648-4b34fc48727b",
   "metadata": {},
   "outputs": [
    {
     "name": "stdout",
     "output_type": "stream",
     "text": [
      "           Age\n",
      "count   8.0000\n",
      "mean   30.0000\n",
      "std     5.8064\n",
      "min    22.0000\n",
      "25%    26.5000\n",
      "50%    29.0000\n",
      "75%    33.5000\n",
      "max    40.0000\n",
      "      Name  Age     City\n",
      "0  Shubham   25  Sonipat\n",
      "1  Nishant   22  Sonipat\n",
      "2    Bruno    2  Sonipat\n"
     ]
    }
   ],
   "source": [
    "#Example for describe():\n",
    "\n",
    "# Example DataFrame\n",
    "df = pd.DataFrame({'Age': [25, 30, 28, 33, 40, 35, 22, 27]})\n",
    "\n",
    "# Display summary statistics\n",
    "print(df.describe())\n",
    "\n",
    "\n",
    "\n",
    "#Example for sort_values():\n",
    "\n",
    "# Example DataFrame\n",
    "df = pd.DataFrame({'Name': ['Shubham', 'Nishant', 'Bruno'],\n",
    "                   'Age': [25, 22, 2],\n",
    "                   'City': ['Sonipat', 'Sonipat', 'Sonipat']})\n",
    "\n",
    "# Sort the DataFrame by 'Age' column in descending order\n",
    "df = df.sort_values('Age', ascending=False)\n",
    "print(df)\n"
   ]
  },
  {
   "cell_type": "code",
   "execution_count": null,
   "id": "681941e2-3d8a-42ba-b917-1438f94b6346",
   "metadata": {},
   "outputs": [],
   "source": [
    "6. Which of the following is mutable in nature Series, DataFrame, Panel?"
   ]
  },
  {
   "cell_type": "code",
   "execution_count": null,
   "id": "da244105-6784-4b6c-904c-10c10fb4b3b4",
   "metadata": {},
   "outputs": [],
   "source": [
    "ANS- Series and DataFrame are mutable in nature, while Panel is considered deprecated and not recommended for use in the latest versions of Pandas. \n",
    "A mutable object can be modified after it has been created, while an immutable object cannot be modified. \n",
    "In Python, basic data types such as integers, floats, and strings are immutable, while lists and dictionaries are mutable. \n",
    "\n",
    "In Pandas, Series and DataFrame can be modified by adding, deleting, or modifying elements or columns. \n",
    "\n",
    "However, it is important to note that some operations on Series and DataFrame return a new object instead of modifying the original object, \n",
    "so it is recommended to use the appropriate methods and functions based on the desired behavior."
   ]
  },
  {
   "cell_type": "code",
   "execution_count": null,
   "id": "f215c995-5473-4283-bec8-349a52daea0b",
   "metadata": {},
   "outputs": [],
   "source": [
    "7. Create a DataFrame using multiple Series. Explain with an example."
   ]
  },
  {
   "cell_type": "code",
   "execution_count": null,
   "id": "19b08c96-d5da-46b0-a7f0-e35f921ad709",
   "metadata": {},
   "outputs": [],
   "source": [
    "ANS- To create a DataFrame using multiple Series, we can pass the Series as a dictionary to the DataFrame constructor. \n",
    "     The keys of the dictionary will become the column names of the DataFrame, and the values of the dictionary will become the Series data. \n",
    "     Here is an example:"
   ]
  },
  {
   "cell_type": "code",
   "execution_count": 8,
   "id": "db7e1dd3-f901-465f-86ce-473d09738f2c",
   "metadata": {},
   "outputs": [
    {
     "name": "stdout",
     "output_type": "stream",
     "text": [
      "   col1    col2   col3\n",
      "0    10   apple   True\n",
      "1    20  banana  False\n",
      "2    30  cherry   True\n",
      "3    40    date  False\n"
     ]
    }
   ],
   "source": [
    "import pandas as pd\n",
    "\n",
    "# create first series\n",
    "series1 = pd.Series([10, 20, 30, 40], name='A')\n",
    "\n",
    "# create second series\n",
    "series2 = pd.Series(['apple', 'banana', 'cherry', 'date'], name='B')\n",
    "\n",
    "# create third series\n",
    "series3 = pd.Series([True, False, True, False], name='C')\n",
    "\n",
    "# create DataFrame using the three Series\n",
    "df = pd.DataFrame({'col1': series1, 'col2': series2, 'col3': series3})\n",
    "\n",
    "# print the DataFrame\n",
    "print(df)\n"
   ]
  },
  {
   "cell_type": "code",
   "execution_count": null,
   "id": "195c705f-fded-41fc-9d18-89e6f69dfbea",
   "metadata": {},
   "outputs": [],
   "source": [
    "In this example, we first create three Series - series1, series2, and series3 - using the pd.Series() function. \n",
    "The first series contains integers, the second series contains strings, and the third series contains boolean values. \n",
    "We assign names to each of the Series using the name parameter.\n",
    "\n",
    "Next, we create a DataFrame using the three Series by passing a dictionary to the pd.DataFrame() function. \n",
    "The keys of the dictionary ('col1', 'col2', 'col3') become the column names of the DataFrame, and the values of the dictionary are the Series data.\n",
    "\n",
    "Finally, we print the DataFrame using the print() function. The resulting DataFrame will look like the output above\n",
    "\n",
    "Note that the index of the DataFrame is automatically generated based on the length of the Series data. \n",
    "In above example, since each of the Series contains 4 elements, the DataFrame has 4 rows with index values 0, 1, 2, and 3."
   ]
  }
 ],
 "metadata": {
  "kernelspec": {
   "display_name": "Python 3 (ipykernel)",
   "language": "python",
   "name": "python3"
  },
  "language_info": {
   "codemirror_mode": {
    "name": "ipython",
    "version": 3
   },
   "file_extension": ".py",
   "mimetype": "text/x-python",
   "name": "python",
   "nbconvert_exporter": "python",
   "pygments_lexer": "ipython3",
   "version": "3.10.8"
  }
 },
 "nbformat": 4,
 "nbformat_minor": 5
}
